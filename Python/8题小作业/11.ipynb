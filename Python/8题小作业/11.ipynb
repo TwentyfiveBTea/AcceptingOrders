{
 "cells": [
  {
   "cell_type": "markdown",
   "metadata": {
    "tags": []
   },
   "source": [
    "## **提交作业**：\n",
    "1. 保存为ipynb文件\n",
    "2. 命名为“学号_姓名.ipynb\"，如：70206714_HuangZhouchun.ipynb\n",
    "3. 将代码与输出结果均显示并紧随相应题目\n",
    "---"
   ]
  },
  {
   "cell_type": "markdown",
   "metadata": {
    "jp-MarkdownHeadingCollapsed": true,
    "tags": []
   },
   "source": [
    "#### 1. 找出单词长度大于5的单词\n",
    "words = [\"apple\", \"banana\", \"orange\", \"peach\",\"kiwi\"]\n"
   ]
  },
  {
   "cell_type": "code",
   "metadata": {
    "jupyter": {
     "is_executing": true
    }
   },
   "source": [
    "words = [\"apple\", \"banana\", \"orange\", \"peach\", \"kiwi\"]\n",
    "ans = []\n",
    "for word in words:\n",
    "    # 检查当前单词的长度是否大于 5\n",
    "    if len(word) > 5:\n",
    "        ans.append(word)\n",
    "print(ans)"
   ],
   "outputs": [],
   "execution_count": null
  },
  {
   "cell_type": "markdown",
   "metadata": {},
   "source": [
    "#### 2. 已知字符串:\"Python is a widely used high-level, general-purpose, interpreted, dynamic programming language.\"\n",
    "要求: 将字符串中每个单词的首字母都变成大写字母，最终输出结果如下: <br>\n",
    "'Python ls A Widely Used High-level, General-purpose, Interpreted, DynamicProgramming Language.'"
   ]
  },
  {
   "cell_type": "code",
   "execution_count": 37,
   "metadata": {},
   "outputs": [
    {
     "name": "stdout",
     "output_type": "stream",
     "text": [
      "[2]\n"
     ]
    }
   ],
   "source": [
    "s = \"Python is a widely used high-level, general-purpose. interpreted,dynamic programming language.\"\n",
    "# 使用 split 方法将字符串拆分成单词列表\n",
    "words = s.split()\n",
    "capitalized_words = []\n",
    "for word in words:\n",
    "    # 将当前单词的首字母大写\n",
    "    capitalized_word = word.capitalize()\n",
    "    # 将首字母大写后的单词添加到 capitalized_words 列表中\n",
    "    capitalized_words.append(capitalized_word)\n",
    "# 使用空格将 capitalized_words 列表中的单词连接成一个字符串\n",
    "result = ' '.join(capitalized_words)\n",
    "print(result)"
   ]
  },
  {
   "cell_type": "markdown",
   "metadata": {},
   "source": [
    "#### 3. 去除一个列表中相邻且重复的元素\n",
    "my_list = [1,2,3,4,4,4,4,4,4, 5,6,6,8,8,12,12,12,12,13]"
   ]
  },
  {
   "cell_type": "code",
   "execution_count": 51,
   "metadata": {},
   "outputs": [
    {
     "name": "stdout",
     "output_type": "stream",
     "text": [
      "[1, 2, 3, 4, 5, 6, 8, 12, 13]\n"
     ]
    }
   ],
   "source": [
    "my_list = [1,2,3,4,4,4,4,4,4,5,6,6,8,8,12,12,12,12,13]\n",
    "new_l1 = []\n",
    "lens = len(my_list)\n",
    "for i in range(lens):\n",
    "    # 检查当前元素是否和前一个元素不同\n",
    "    if my_list[i] != my_list[i-1]:\n",
    "        # 如果不同，则将当前元素添加到去重后的列表中\n",
    "        new_l1.append(my_list[i])\n",
    "print(new_l1)"
   ]
  },
  {
   "cell_type": "markdown",
   "metadata": {},
   "source": [
    "#### 4. 用户名密码对应\n",
    "给定两个列表，一个存放用户名，一个存放密码。请建立字典将用户名和密码按顺序一一对应。<br>\n",
    "Username=[‘jack’,’bob’,’john’]<br>\n",
    "Password=[‘123’,’859’,’hello’]<br>"
   ]
  },
  {
   "cell_type": "code",
   "execution_count": 52,
   "metadata": {},
   "outputs": [
    {
     "data": {
      "text/plain": [
       "'859'"
      ]
     },
     "execution_count": 52,
     "metadata": {},
     "output_type": "execute_result"
    }
   ],
   "source": [
    "usernames = ['jack', 'bob', 'john']\n",
    "passwords = ['123', '859', 'hello']\n",
    "dict = {}\n",
    "for i in range(len(usernames)):\n",
    "    # 获取当前索引对应的用户名\n",
    "    username = usernames[i]\n",
    "    # 获取当前索引对应的密码\n",
    "    password = passwords[i]\n",
    "    # 将用户名作为键，密码作为值，添加到字典中\n",
    "    dict[username] = password\n",
    "print(dict)"
   ]
  },
  {
   "cell_type": "markdown",
   "metadata": {},
   "source": [
    "#### 5. 词频统计\n",
    "x=['sklearn','AI','julyedu.com','Caffe','AI','sklearn‘] <br>\n",
    "对x包含的单词，统计词频<br>\n",
    "输出字典，键为x中单词，值为单词出现的次数"
   ]
  },
  {
   "cell_type": "code",
   "execution_count": 82,
   "metadata": {},
   "outputs": [
    {
     "name": "stdout",
     "output_type": "stream",
     "text": [
      "{'sklearn': 2, 'AI': 2, 'julyedu.com': 1, 'Caffe': 1}\n"
     ]
    }
   ],
   "source": [
    "x = ['sklearn', 'Al', \"julyedu.com\", 'Caffe', 'Al', 'sklearn']\n",
    "cnt = {}\n",
    "for word in x:\n",
    "    if word in cnt:\n",
    "        # 如果单词已经在字典中，将其对应的值加 1\n",
    "        cnt[word] = cnt[word] + 1\n",
    "    else:\n",
    "        # 如果单词不在字典中，将其添加到字典中，并将值初始化为 1\n",
    "        cnt[word] = 1\n",
    "print(cnt)"
   ]
  },
  {
   "cell_type": "markdown",
   "metadata": {},
   "source": [
    "#### 6. 定义一个函数，实现求指定长度的斐波那契数列\n",
    "调用该函数，输出长度为20的斐波那契数列。"
   ]
  },
  {
   "cell_type": "code",
   "execution_count": 90,
   "metadata": {},
   "outputs": [
    {
     "name": "stdout",
     "output_type": "stream",
     "text": [
      "[0, 1, 1, 2, 3, 5, 8, 13, 21, 34]\n"
     ]
    }
   ],
   "source": [
    "def fibonacci(length):\n",
    "    # 若指定长度为 0，返回空列表\n",
    "    if length == 0:\n",
    "        return []\n",
    "    # 若指定长度为 1，返回只包含 0 的列表\n",
    "    elif length == 1:\n",
    "        return [0]\n",
    "    # 初始化斐波那契数列，前两个数是 0 和 1\n",
    "    sequence = [0, 1]\n",
    "    # 当数列长度小于指定长度时，持续生成新的数列元素\n",
    "    while len(sequence) < length:\n",
    "        # 计算下一个斐波那契数，为数列最后两个数之和\n",
    "        next_num = sequence[-1] + sequence[-2]\n",
    "        # 将新计算出的数添加到数列末尾\n",
    "        sequence.append(next_num)\n",
    "    # 返回生成好的斐波那契数列\n",
    "    return sequence\n",
    "\n",
    "# 生成长度为 20 的斐波那契数列\n",
    "result = fibonacci(20)\n",
    "print(result)"
   ]
  },
  {
   "cell_type": "markdown",
   "metadata": {},
   "source": [
    "#### 9. 编写工资额计算器:\n",
    "(1)确定每月的基本工资。<br>\n",
    "(2)输入每月的实际工作天数。<br>\n",
    "(3)输入当月的请假天数，如果请假天数小于等于2天，对工资无影响:大于2天小于等于7天，扣除当月基本工资的10%;大于7天小于等于14天，扣除当月基本工资的50%;大于14天，扣除全月工资。<br>\n",
    "(4)如果当月实际工作天数和应该工作天数一样(不算加班)，则增加基本工资的20%(5)如果当月有加班，则按照加班的天数和当月的日工资(基本工资/实际工作天数)计算加班费。<br>\n",
    "(6)输出最终应得的工资。<br>\n"
   ]
  },
  {
   "cell_type": "code",
   "metadata": {
    "jupyter": {
     "is_executing": true
    }
   },
   "source": [
    "# 输入数据\n",
    "basic_salary = float(input(\"请输入每月的基本工资: \"))\n",
    "actual_work_days = int(input(\"请输入每月的实际工作天数: \"))\n",
    "leave_days = int(input(\"请输入当月的请假天数: \"))\n",
    "should_work_days = actual_work_days\n",
    "overtime_days = int(input(\"请输入当月的加班天数: \"))\n",
    "\n",
    "# 根据请假天数计算工资扣除比例\n",
    "if leave_days <= 2:\n",
    "    deduction = 0\n",
    "elif 2 < leave_days <= 7:\n",
    "    deduction = 0.1\n",
    "elif 7 < leave_days <= 14:\n",
    "    deduction = 0.5\n",
    "else:\n",
    "    deduction = 1\n",
    "\n",
    "# 计算扣除请假工资后的工资\n",
    "deducted_salary = basic_salary * (1 - deduction)\n",
    "\n",
    "# 如果实际工作天数和应工作天数相同，计算奖金\n",
    "if actual_work_days == should_work_days:\n",
    "    bonus = basic_salary * 0.2\n",
    "else:\n",
    "    bonus = 0\n",
    "\n",
    "# 计算日工资\n",
    "daily_wage = basic_salary / actual_work_days\n",
    "# 计算加班费\n",
    "overtime_pay = overtime_days * daily_wage\n",
    "\n",
    "# 计算最终应得工资\n",
    "final_salary = deducted_salary + bonus + overtime_pay\n",
    "print(\"最终应得的工资为:\", final_salary)\n"
   ],
   "outputs": [],
   "execution_count": null
  },
  {
   "cell_type": "markdown",
   "metadata": {},
   "source": [
    "#### 10.创建一个名为 Flight 的类，用于表示航班信息，并实现以下功能:\n",
    "(1)实例属性包括: <br>\n",
    "flight_number: 航班号(如\"CA1234\") <br>\n",
    "departure_city: 出发城市 <br>\n",
    "arrival_city: 到达城市 <br>\n",
    "departure_time: 起飞时间(格式\"HH:MM\") <br>\n",
    "arrival_time: 到达时间(格式\"HH:MM\") <br>\n",
    "aircraft_type: 飞机型号，默认\"Boeing 737' <br>\n",
    "capacity: 座位容量，默认180 <br>\n",
    "passenger_count: 乘客数量，默认0 <br>\n",
    "2)实例方法: <br>\n",
    "check_in(num_passengers): 办理乘客登机，增加乘客数量 <br>\n",
    "delay(minutes): 延迟航班，更新到达时间 <br>\n",
    "get_flight_duration(): 计算并返回航班时长(分钟) <br>\n",
    "get_available seats(): 返回剩余座位数 <br>\n",
    "(3)魔术方法: <br>\n",
    "str: 返回航班基本信息(格式\"航班号({出发城市}起飞时间)-{到达城市到达时间}\") <br>\n",
    "eq-: 比较两个航班是否为同一航班号 <br>\n",
    "lt: 比较两个航班的起飞时间先后 <br>\n",
    "(4)在构造方法中进行异常处理 <br>\n",
    "航班号格式:2-3个字母+1-4个数字(如CA1234) <br>\n",
    "时间格式必须为\"HH:MM\" <br>\n",
    "到达时间必须晚于起飞时间 <br>\n",
    "乘客数量不能超过容量 <br>"
   ]
  },
  {
   "cell_type": "code",
   "execution_count": 109,
   "metadata": {},
   "outputs": [
    {
     "name": "stdout",
     "output_type": "stream",
     "text": [
      "10000.0\n"
     ]
    }
   ],
   "source": [
    "import re\n",
    "\n",
    "class Flight:\n",
    "    def __init__(self, flight_number, departure_city, arrival_city, departure_time, arrival_time,\n",
    "                 aircraft_type=\"Boeing 737\", capacity=180, passenger_count=0):\n",
    "        # 正则表达式进行匹配，检查航班号格式是否符合 2 - 3 个字母 + 1 - 4 个数字的规则\n",
    "\n",
    "        if not re.match(r'^[A-Z]{2,3}\\d{1,4}$', flight_number):\n",
    "            raise ValueError(\"航班号格式应为 2 - 3 个字母 + 1 - 4 个数字\")\n",
    "\n",
    "        # 正则表达式进行匹配，检查起飞时间和到达时间的格式是否为 'HH:MM'\n",
    "        if not re.match(r'^\\d{2}:\\d{2}$', departure_time) or not re.match(r'^\\d{2}:\\d{2}$', arrival_time):\n",
    "            raise ValueError(\"时间格式必须为 'HH:MM'\")\n",
    "\n",
    "        # 解析起飞时间和到达时间的小时和分钟\n",
    "        dep_hour, dep_min = map(int, departure_time.split(':'))\n",
    "        arr_hour, arr_min = map(int, arrival_time.split(':'))\n",
    "\n",
    "        # 检查到达时间是否晚于起飞时间，若不满足则抛出异常\n",
    "        if (arr_hour < dep_hour) or (arr_hour == dep_hour and arr_min <= dep_min):\n",
    "            raise ValueError(\"到达时间必须晚于起飞时间\")\n",
    "\n",
    "        # 检查初始乘客数量是否超过航班座位容量，若超过则抛出异常\n",
    "        if passenger_count > capacity:\n",
    "            raise ValueError(\"乘客数量不能超过容量\")\n",
    "\n",
    "        # 初始化航班的各个属性\n",
    "        self.flight_number = flight_number\n",
    "        self.departure_city = departure_city\n",
    "        self.arrival_city = arrival_city\n",
    "        self.departure_time = departure_time\n",
    "        self.arrival_time = arrival_time\n",
    "        self.aircraft_type = aircraft_type\n",
    "        self.capacity = capacity\n",
    "        self.passenger_count = passenger_count\n",
    "\n",
    "    def check_in(self, num_passengers):\n",
    "        # 检查登机的乘客数量加上当前已有的乘客数量是否会超过航班座位容量\n",
    "        if self.passenger_count + num_passengers > self.capacity:\n",
    "            raise ValueError(\"登机后乘客数量将超过容量\")\n",
    "        # 若未超过容量，更新乘客数量\n",
    "        self.passenger_count += num_passengers\n",
    "\n",
    "    def delay(self, minutes):\n",
    "        # 解析当前的到达时间为小时和分钟\n",
    "        arr_hour, arr_min = map(int, self.arrival_time.split(':'))\n",
    "        # 计算延迟后的总分钟数\n",
    "        total_min = arr_hour * 60 + arr_min + minutes\n",
    "        # 计算延迟后的小时数，并对 24 取模以处理跨天情况\n",
    "        new_hour = total_min // 60 % 24\n",
    "        # 计算延迟后的分钟数\n",
    "        new_min = total_min % 60\n",
    "        # 更新到达时间\n",
    "        self.arrival_time = f\"{new_hour:02d}:{new_min:02d}\"\n",
    "\n",
    "    def get_flight_duration(self):\n",
    "        # 解析起飞时间和到达时间为小时和分钟\n",
    "        dep_hour, dep_min = map(int, self.departure_time.split(':'))\n",
    "        arr_hour, arr_min = map(int, self.arrival_time.split(':'))\n",
    "        # 计算起飞时间的总分钟数\n",
    "        dep_total_min = dep_hour * 60 + dep_min\n",
    "        # 计算到达时间的总分钟数\n",
    "        arr_total_min = arr_hour * 60 + arr_min\n",
    "        # 返回航班飞行的总时长（分钟）\n",
    "        return arr_total_min - dep_total_min\n",
    "\n",
    "    def get_available_seats(self):\n",
    "        # 通过航班座位容量减去当前乘客数量，返回剩余可用座位数\n",
    "        return self.capacity - self.passenger_count\n",
    "\n",
    "    def __str__(self):\n",
    "        # 返回一个包含航班号、出发城市、起飞时间、到达城市和到达时间的字符串\n",
    "        return f\"航班号({self.flight_number}): {self.departure_city}{self.departure_time}-{self.arrival_city}{self.arrival_time}\"\n",
    "\n",
    "    def __eq__(self, other):\n",
    "        # 比较两个航班对象的航班号是否相同\n",
    "        return self.flight_number == other.flight_number\n",
    "\n",
    "    def __lt__(self, other):\n",
    "        # 解析当前航班和另一个航班的起飞时间为小时和分钟\n",
    "        self_dep_hour, self_dep_min = map(int, self.departure_time.split(':'))\n",
    "        other_dep_hour, other_dep_min = map(int, other.departure_time.split(':'))\n",
    "        # 比较两个航班起飞时间的总分钟数\n",
    "        return (self_dep_hour * 60 + self_dep_min) < (other_dep_hour * 60 + other_dep_min)"
   ]
  }
 ],
 "metadata": {
  "anaconda-cloud": {},
  "kernelspec": {
   "display_name": "Python 3 (ipykernel)",
   "language": "python",
   "name": "python3"
  },
  "language_info": {
   "codemirror_mode": {
    "name": "ipython",
    "version": 3
   },
   "file_extension": ".py",
   "mimetype": "text/x-python",
   "name": "python",
   "nbconvert_exporter": "python",
   "pygments_lexer": "ipython3",
   "version": "3.12.3"
  }
 },
 "nbformat": 4,
 "nbformat_minor": 4
}
